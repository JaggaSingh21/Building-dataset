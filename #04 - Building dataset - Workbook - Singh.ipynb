{
 "cells": [
  {
   "cell_type": "markdown",
   "metadata": {},
   "source": [
    "# Jagwinder Singh"
   ]
  },
  {
   "cell_type": "markdown",
   "metadata": {},
   "source": [
    "## Complete the notebook: JNM04 Workbook\n",
    "(version 10/06/2020)"
   ]
  },
  {
   "cell_type": "markdown",
   "metadata": {},
   "source": [
    "# Building a dataset"
   ]
  },
  {
   "cell_type": "markdown",
   "metadata": {},
   "source": [
    "1) Enter the needed imports:"
   ]
  },
  {
   "cell_type": "code",
   "execution_count": 1,
   "metadata": {},
   "outputs": [],
   "source": [
    "import quandl\n",
    "import pandas as pd"
   ]
  },
  {
   "cell_type": "markdown",
   "metadata": {},
   "source": [
    "2) Read in from a text file your quandl api key:"
   ]
  },
  {
   "cell_type": "code",
   "execution_count": 2,
   "metadata": {},
   "outputs": [],
   "source": [
    "api_key = open('quandlapikey.txt','r').read()"
   ]
  },
  {
   "cell_type": "markdown",
   "metadata": {},
   "source": [
    "3) Get Alaska Housing Price Index Data from Quandl and print the first and last 10 rows:"
   ]
  },
  {
   "cell_type": "code",
   "execution_count": 3,
   "metadata": {},
   "outputs": [
    {
     "name": "stdout",
     "output_type": "stream",
     "text": [
      "            NSA Value   SA Value\n",
      "Date                            \n",
      "1975-01-31  34.416476  34.602936\n",
      "1975-02-28  34.886789  35.033986\n",
      "1975-03-31  35.373478  35.406863\n",
      "1975-04-30  35.902714  35.783657\n",
      "1975-05-31  36.523839  36.225068\n",
      "1975-06-30  37.231516  36.714277\n",
      "1975-07-31  37.961819  37.276366\n",
      "1975-08-31  38.638704  37.937627\n",
      "1975-09-30  39.224352  38.674091\n",
      "1975-10-31  39.730263  39.430249\n",
      "             NSA Value    SA Value\n",
      "Date                              \n",
      "2020-04-30  187.458107  185.970870\n",
      "2020-05-31  189.531545  187.138240\n",
      "2020-06-30  191.444437  188.452098\n",
      "2020-07-31  192.811866  189.808604\n",
      "2020-08-31  193.636572  191.076410\n",
      "2020-09-30  194.214175  192.327076\n",
      "2020-10-31  194.993419  194.120033\n",
      "2020-11-30  196.109569  196.133958\n",
      "2020-12-31  197.540383  198.149831\n",
      "2021-01-31  199.462990  200.195994\n"
     ]
    }
   ],
   "source": [
    "df = quandl.get(\"FMAC/HPI_AK\", authtoken=api_key)\n",
    "print(df.head(10)) \n",
    "print(df.tail(10))"
   ]
  },
  {
   "cell_type": "markdown",
   "metadata": {},
   "source": [
    "4) Get a single table from a website of your choosing and print only one of the tables:"
   ]
  },
  {
   "cell_type": "code",
   "execution_count": 10,
   "metadata": {},
   "outputs": [
    {
     "name": "stdout",
     "output_type": "stream",
     "text": [
      "            Unnamed: 0  Number of cases\n",
      "0                World        113597323\n",
      "1                  USA         29052262\n",
      "2                India         11063491\n",
      "3               Brazil         10393886\n",
      "4               Russia          4223186\n",
      "..                 ...              ...\n",
      "217  Wallis and Futuna                9\n",
      "218   Marshall Islands                4\n",
      "219              Samoa                3\n",
      "220         Micronesia                1\n",
      "221            Vanuatu                1\n",
      "\n",
      "[222 rows x 2 columns]\n"
     ]
    }
   ],
   "source": [
    "COVID_Cases = pd.read_html('https://www.statista.com/statistics/1043366/novel-coronavirus-2019ncov-cases-worldwide-by-country/')\n",
    "print(COVID_Cases[0])"
   ]
  }
 ],
 "metadata": {
  "kernelspec": {
   "display_name": "Python 3",
   "language": "python",
   "name": "python3"
  },
  "language_info": {
   "codemirror_mode": {
    "name": "ipython",
    "version": 3
   },
   "file_extension": ".py",
   "mimetype": "text/x-python",
   "name": "python",
   "nbconvert_exporter": "python",
   "pygments_lexer": "ipython3",
   "version": "3.8.5"
  }
 },
 "nbformat": 4,
 "nbformat_minor": 2
}
